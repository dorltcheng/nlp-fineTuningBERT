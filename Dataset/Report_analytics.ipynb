{
 "cells": [
  {
   "cell_type": "code",
   "execution_count": 7,
   "id": "88916bbe",
   "metadata": {},
   "outputs": [],
   "source": [
    "import seaborn as sns\n",
    "from nltk.corpus import stopwords\n",
    "from collections import  Counter\n",
    "import matplotlib.pyplot as plt\n",
    "import os\n",
    "import pandas as pd\n",
    "import numpy as np"
   ]
  },
  {
   "cell_type": "code",
   "execution_count": 2,
   "id": "5894e550",
   "metadata": {},
   "outputs": [],
   "source": [
    "def count_sections(contents, sectionSummary):\n",
    "    \n",
    "    if \"INDICATION:\" in contents:\n",
    "        sectionSummary[\"indication\"] = sectionSummary[\"indication\"] + 1\n",
    "        \n",
    "    if \"TECHNIQUE:\" in contents:\n",
    "        sectionSummary[\"technique\"] =  sectionSummary[\"technique\"] + 1\n",
    "   \n",
    "    if \"EXAMINATION:\" in contents:\n",
    "        sectionSummary[\"examination\"] =  sectionSummary[\"examination\"] + 1\n",
    "        \n",
    "    if \"IMPRESSION:\" in contents:\n",
    "        sectionSummary[\"impression\"] =  sectionSummary[\"impression\"] + 1\n",
    "    \n",
    "    if \"FINDINGS:\" in contents:\n",
    "        sectionSummary[\"findings\"] =   sectionSummary[\"findings\"] + 1\n",
    "        \n",
    "    if \"COMMENT:\" in contents:\n",
    "        sectionSummary[\"comment\"] = sectionSummary[\"comment\"] + 1\n",
    "    \n",
    "    if \"COMPARISON\" in contents:\n",
    "        sectionSummary[\"comparison\"] =  sectionSummary[\"comparison\"] + 1\n",
    "    if \"HISTORY\" in contents:\n",
    "        sectionSummary[\"history\"] =  sectionSummary[\"history\"] + 1\n",
    "    \n",
    "    return sectionSummary"
   ]
  },
  {
   "cell_type": "raw",
   "id": "aec5e5fa",
   "metadata": {},
   "source": [
    "# assign directory\n",
    "\n",
    "\n",
    "def searchDirectory(mainDirectory, sectionSummary,wordCount):\n",
    "\n",
    "\n",
    "    directory = '/media/Data/ComputerVision/mimic_cxr_jpg_small_chest_radiograph/data/physionet.org/files/mimic-cxr-jpg/2.0.0/files/' + mainDirectory\n",
    "    ext = '.txt'\n",
    "    sum = 0\n",
    "    # iterate over files in\n",
    "    # that directory\n",
    "    for root, dirs, files in os.walk(directory):\n",
    "        for filename in files:\n",
    "            if filename.endswith(ext):\n",
    "                with open(os.path.join(root, filename), 'r') as report:\n",
    "                    contents = report.read()\n",
    "                    wordCount.append(len(contents.split()))\n",
    "                sum = sum + 1   \n",
    "                sectionSummary = count_sections(contents, sectionSummary)\n",
    "            \n",
    "            \n",
    "\n",
    "    summary =''\n",
    "    summary = 'Direcotry ' + mainDirectory + ' contains ' + str(sum) + ' text reports.'   \n",
    "    print(summary)"
   ]
  },
  {
   "cell_type": "code",
   "execution_count": 13,
   "id": "fcaa5bc2",
   "metadata": {},
   "outputs": [],
   "source": [
    "directories = ['p10', 'p11', 'p12', 'p13', 'p14', 'p15', 'p16', 'p17', 'p18', 'p19']"
   ]
  },
  {
   "cell_type": "code",
   "execution_count": 14,
   "id": "6d3da037",
   "metadata": {},
   "outputs": [
    {
     "name": "stdout",
     "output_type": "stream",
     "text": [
      "Direcotry p10 contains 22197 text reports.\n",
      "Direcotry p11 contains 23358 text reports.\n",
      "Direcotry p12 contains 22428 text reports.\n",
      "Direcotry p13 contains 22945 text reports.\n",
      "Direcotry p14 contains 22589 text reports.\n",
      "Direcotry p15 contains 23713 text reports.\n",
      "Direcotry p16 contains 22151 text reports.\n",
      "Direcotry p17 contains 22695 text reports.\n",
      "Direcotry p18 contains 22929 text reports.\n",
      "Direcotry p19 contains 22830 text reports.\n"
     ]
    }
   ],
   "source": [
    "\n",
    "sectionSummary = {\"impression\": 0,\"history\": 0,\"findings\": 0,\"comment\": 0, \"comparison\": 0, \"indication\":0, \"examination\":0, \"technique\": 0}\n",
    "wordCount = []\n",
    "for directory in directories:\n",
    "    searchDirectory(directory, sectionSummary,wordCount)"
   ]
  },
  {
   "cell_type": "code",
   "execution_count": 15,
   "id": "87c5e641",
   "metadata": {},
   "outputs": [
    {
     "data": {
      "text/plain": [
       "{'impression': 187793,\n",
       " 'history': 53179,\n",
       " 'findings': 149758,\n",
       " 'comment': 88,\n",
       " 'comparison': 163815,\n",
       " 'indication': 155607,\n",
       " 'examination': 101575,\n",
       " 'technique': 81373}"
      ]
     },
     "execution_count": 15,
     "metadata": {},
     "output_type": "execute_result"
    }
   ],
   "source": [
    "sectionSummary"
   ]
  },
  {
   "cell_type": "code",
   "execution_count": 16,
   "id": "bc4d990b",
   "metadata": {},
   "outputs": [
    {
     "data": {
      "image/png": "[encoded data removed]",
      "text/plain": [
       "<Figure size 432x288 with 1 Axes>"
      ]
     },
     "metadata": {
      "needs_background": "light"
     },
     "output_type": "display_data"
    }
   ],
   "source": [
    "plt.bar(list(sectionSummary.keys()), sectionSummary.values(), color='g')\n",
    "plt.xticks(rotation=90)\n",
    "plt.show()"
   ]
  },
  {
   "cell_type": "code",
   "execution_count": 17,
   "id": "af3d2f18",
   "metadata": {},
   "outputs": [
    {
     "data": {
      "image/png": "[encoded data removed]",
      "text/plain": [
       "<Figure size 432x288 with 1 Axes>"
      ]
     },
     "metadata": {
      "needs_background": "light"
     },
     "output_type": "display_data"
    }
   ],
   "source": [
    "sortedSummary = dict(sorted(sectionSummary.items(), key=lambda item: item[1]))\n",
    "plt.bar(list(sortedSummary.keys()), sortedSummary.values(), color='g')\n",
    "plt.xticks(rotation=90)\n",
    "plt.show()"
   ]
  },
  {
   "cell_type": "code",
   "execution_count": 18,
   "id": "35d1fd29",
   "metadata": {},
   "outputs": [
    {
     "data": {
      "image/png": "[encoded data removed]",
      "text/plain": [
       "<Figure size 432x288 with 1 Axes>"
      ]
     },
     "metadata": {
      "needs_background": "light"
     },
     "output_type": "display_data"
    }
   ],
   "source": [
    "import numpy as np \n",
    "plt.hist(wordCount,bins = [0,20,40,60,80,100,120,140, 160,180, 200,220, 240,260, 280,300, 320,340, 360,380,400,420,440,460,480, 500, 520, 540, 560]) \n",
    "plt.show()"
   ]
  },
  {
   "cell_type": "code",
   "execution_count": 21,
   "id": "7eae1966",
   "metadata": {},
   "outputs": [],
   "source": [
    "maxWordCount = max(wordCount)\n",
    "meanWordCount = np.mean(wordCount)\n",
    "medianWordCount = np.median(wordCount)\n",
    "minWordCount = min(wordCount)"
   ]
  },
  {
   "cell_type": "code",
   "execution_count": 22,
   "id": "1c610812",
   "metadata": {},
   "outputs": [
    {
     "name": "stdout",
     "output_type": "stream",
     "text": [
      "The max word count is: 552\n",
      "The min word count is: 2\n",
      "The mean word count is: 87.08653192002984\n",
      "The median of the word count is: 79.0\n"
     ]
    }
   ],
   "source": [
    "print('The max word count is: ' + str(maxWordCount))\n",
    "print('The min word count is: ' + str(minWordCount))\n",
    "print('The mean word count is: ' + str(meanWordCount))\n",
    "print('The median of the word count is: ' + str(medianWordCount))"
   ]
  },
  {
   "cell_type": "markdown",
   "id": "a259fa82",
   "metadata": {},
   "source": [
    "### Token count after tokenization and stopword removal"
   ]
  },
  {
   "cell_type": "code",
   "execution_count": 5,
   "id": "b25098de",
   "metadata": {},
   "outputs": [
    {
     "name": "stdout",
     "output_type": "stream",
     "text": [
      "222337\n"
     ]
    }
   ],
   "source": [
    "trainDf = pd.read_csv(\"df_raw_reports.csv\")\n",
    "tokenCount = trainDf[\"word_count\"]\n",
    "print(len(tokenCount))"
   ]
  },
  {
   "cell_type": "code",
   "execution_count": 8,
   "id": "85b66d71",
   "metadata": {},
   "outputs": [
    {
     "data": {
      "image/png": "[encoded data removed]",
      "text/plain": [
       "<Figure size 432x288 with 1 Axes>"
      ]
     },
     "metadata": {
      "needs_background": "light"
     },
     "output_type": "display_data"
    },
    {
     "name": "stdout",
     "output_type": "stream",
     "text": [
      "The max token count is: 507\n",
      "The min token count is: 4\n",
      "The mean token count is: 89.05906799138245\n",
      "The median of the token count is: 82.0\n",
      "\n",
      "Around  20 :  142.0\n",
      "Around  40 :  4585.0\n",
      "Around  60 :  32396.0\n",
      "Around  80 :  66173.0\n",
      "Around  100 :  51711.0\n",
      "Around  120 :  31485.0\n",
      "Around  140 :  17515.0\n",
      "Around  160 :  9257.0\n",
      "Around  180 :  4501.0\n",
      "Around  200 :  2152.0\n",
      "Around  220 :  1118.0\n",
      "Around  240 :  589.0\n",
      "Around  260 :  315.0\n",
      "Around  280 :  150.0\n",
      "Around  300 :  111.0\n",
      "Around  320 :  53.0\n",
      "Around  340 :  27.0\n",
      "Around  360 :  19.0\n",
      "Around  380 :  17.0\n",
      "Around  400 :  7.0\n",
      "Around  420 :  3.0\n",
      "Around  440 :  3.0\n",
      "Around  460 :  4.0\n",
      "Around  480 :  1.0\n",
      "Around  500 :  1.0\n",
      "Around  520 :  2.0\n",
      "Around  540 :  0.0\n",
      "Around  560 :  0.0\n"
     ]
    }
   ],
   "source": [
    "maxWordCount = max(tokenCount)\n",
    "meanWordCount = np.mean(tokenCount)\n",
    "medianWordCount = np.median(tokenCount)\n",
    "minWordCount = min(tokenCount)\n",
    "\n",
    "# plt.hist(tokenCount,bins = [0,20,40,60,80,100,120,140, 160,180, 200,220, 240,260, 280,300, 320,340, 360,380,400,420,440,460,480, 500, 520, 540, 560]) \n",
    "n, bins, patches = plt.hist(tokenCount, bins = [0,20,40,60,80,100,120,140, 160,180, 200,220, 240,260, 280,300, 320,340, 360,380,400,420,440,460,480, 500, 520, 540, 560])\n",
    "plt.show()\n",
    "\n",
    "print('The max token count is: ' + str(maxWordCount))\n",
    "print('The min token count is: ' + str(minWordCount))\n",
    "print('The mean token count is: ' + str(meanWordCount))\n",
    "print('The median of the token count is: ' + str(medianWordCount))\n",
    "print()\n",
    "for i in range(28):\n",
    "    print(\"Around \", bins[i+1], \": \", n[i])"
   ]
  },
  {
   "cell_type": "code",
   "execution_count": null,
   "id": "27baad94",
   "metadata": {},
   "outputs": [],
   "source": []
  },
  {
   "cell_type": "code",
   "execution_count": null,
   "id": "b3deb526",
   "metadata": {},
   "outputs": [],
   "source": []
  }
 ],
 "metadata": {
  "kernelspec": {
   "display_name": "Python 3",
   "language": "python",
   "name": "python3"
  },
  "language_info": {
   "codemirror_mode": {
    "name": "ipython",
    "version": 3
   },
   "file_extension": ".py",
   "mimetype": "text/x-python",
   "name": "python",
   "nbconvert_exporter": "python",
   "pygments_lexer": "ipython3",
   "version": "3.6.13"
  }
 },
 "nbformat": 4,
 "nbformat_minor": 5
}
