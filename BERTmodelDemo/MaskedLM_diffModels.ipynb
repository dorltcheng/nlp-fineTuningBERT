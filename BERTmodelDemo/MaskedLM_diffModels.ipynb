{
 "cells": [
  {
   "cell_type": "markdown",
   "id": "8f58bca0",
   "metadata": {},
   "source": [
    "# Masked language modelling with different BERT models\n",
    "\n",
    "### BERT and Bio-ClinicalBERT"
   ]
  },
  {
   "cell_type": "code",
   "execution_count": 1,
   "id": "389397a3",
   "metadata": {},
   "outputs": [
    {
     "name": "stderr",
     "output_type": "stream",
     "text": [
      "Some weights of the model checkpoint at emilyalsentzer/Bio_ClinicalBERT were not used when initializing BertForMaskedLM: ['cls.seq_relationship.bias', 'cls.seq_relationship.weight']\n",
      "- This IS expected if you are initializing BertForMaskedLM from the checkpoint of a model trained on another task or with another architecture (e.g. initializing a BertForSequenceClassification model from a BertForPreTraining model).\n",
      "- This IS NOT expected if you are initializing BertForMaskedLM from the checkpoint of a model that you expect to be exactly identical (initializing a BertForSequenceClassification model from a BertForSequenceClassification model).\n",
      "Some weights of the model checkpoint at bert-base-uncased were not used when initializing BertForMaskedLM: ['cls.seq_relationship.bias', 'cls.seq_relationship.weight']\n",
      "- This IS expected if you are initializing BertForMaskedLM from the checkpoint of a model trained on another task or with another architecture (e.g. initializing a BertForSequenceClassification model from a BertForPreTraining model).\n",
      "- This IS NOT expected if you are initializing BertForMaskedLM from the checkpoint of a model that you expect to be exactly identical (initializing a BertForSequenceClassification model from a BertForSequenceClassification model).\n"
     ]
    }
   ],
   "source": [
    "from transformers import pipeline\n",
    "\n",
    "mask_fillerClinicalBERT = pipeline(\n",
    "    \"fill-mask\", model=\"emilyalsentzer/Bio_ClinicalBERT\")\n",
    "\n",
    "mask_fillerBERT = pipeline(\n",
    "    \"fill-mask\", model=\"bert-base-uncased\")"
   ]
  },
  {
   "cell_type": "code",
   "execution_count": 3,
   "id": "731a44ad",
   "metadata": {},
   "outputs": [
    {
     "name": "stdout",
     "output_type": "stream",
     "text": [
      "Predictions from BERT: \n",
      ">>> the findings were discussed with others.\n",
      ">>> the findings were discussed with colleagues.\n",
      ">>> the findings were discussed with friends.\n",
      ">>> the findings were discussed with experts.\n",
      ">>> the findings were discussed with peers.\n",
      "\n",
      "\n",
      "Predictions from ClinicalBERT: \n",
      ">>> the findings were discussed with surgeon.\n",
      ">>> the findings were discussed with Dr.\n",
      ">>> the findings were discussed with them.\n",
      ">>> the findings were discussed with team.\n",
      ">>> the findings were discussed with patient.\n"
     ]
    }
   ],
   "source": [
    "text = \"The findings were discussed with [MASK].\"\n",
    "\n",
    "pred1 = mask_fillerClinicalBERT(text)\n",
    "pred2 = mask_fillerBERT(text)\n",
    "\n",
    "print(\"Predictions from BERT: \")\n",
    "for pred in pred2:\n",
    "    print(f\">>> {pred['sequence']}\")\n",
    "    \n",
    "print(\"\\n\")\n",
    "print(\"Predictions from ClinicalBERT: \")\n",
    "for pred in pred1:\n",
    "    print(f\">>> {pred['sequence']}\")\n",
    "    \n",
    "    "
   ]
  },
  {
   "cell_type": "markdown",
   "id": "6ff4b646",
   "metadata": {},
   "source": [
    "### SciBERT"
   ]
  },
  {
   "cell_type": "code",
   "execution_count": 5,
   "id": "74e5fad8",
   "metadata": {},
   "outputs": [
    {
     "data": {
      "application/vnd.jupyter.widget-view+json": {
       "model_id": "a211e9c5ef0444e4aa5bddbad7cd506e",
       "version_major": 2,
       "version_minor": 0
      },
      "text/plain": [
       "Downloading:   0%|          | 0.00/385 [00:00<?, ?B/s]"
      ]
     },
     "metadata": {},
     "output_type": "display_data"
    },
    {
     "data": {
      "application/vnd.jupyter.widget-view+json": {
       "model_id": "54ff04ed356144f88fb2c5d2ae6088b8",
       "version_major": 2,
       "version_minor": 0
      },
      "text/plain": [
       "Downloading:   0%|          | 0.00/422M [00:00<?, ?B/s]"
      ]
     },
     "metadata": {},
     "output_type": "display_data"
    },
    {
     "name": "stderr",
     "output_type": "stream",
     "text": [
      "Some weights of the model checkpoint at allenai/scibert_scivocab_uncased were not used when initializing BertForMaskedLM: ['cls.seq_relationship.weight', 'cls.seq_relationship.bias']\n",
      "- This IS expected if you are initializing BertForMaskedLM from the checkpoint of a model trained on another task or with another architecture (e.g. initializing a BertForSequenceClassification model from a BertForPreTraining model).\n",
      "- This IS NOT expected if you are initializing BertForMaskedLM from the checkpoint of a model that you expect to be exactly identical (initializing a BertForSequenceClassification model from a BertForSequenceClassification model).\n"
     ]
    },
    {
     "data": {
      "application/vnd.jupyter.widget-view+json": {
       "model_id": "64b5cde57bcf47b8b2b11714e03f40fb",
       "version_major": 2,
       "version_minor": 0
      },
      "text/plain": [
       "Downloading:   0%|          | 0.00/223k [00:00<?, ?B/s]"
      ]
     },
     "metadata": {},
     "output_type": "display_data"
    }
   ],
   "source": [
    "mask_filler = pipeline(\n",
    "    \"fill-mask\", model=\"allenai/scibert_scivocab_uncased\")"
   ]
  },
  {
   "cell_type": "code",
   "execution_count": 6,
   "id": "ef8d98d5",
   "metadata": {},
   "outputs": [
    {
     "name": "stdout",
     "output_type": "stream",
     "text": [
      ">>> the findings were discussed with others.\n",
      ">>> the findings were discussed with patients.\n",
      ">>> the findings were discussed with participants.\n",
      ">>> the findings were discussed with colleagues.\n",
      ">>> the findings were discussed with them.\n"
     ]
    }
   ],
   "source": [
    "text = \"The findings were discussed with [MASK].\"\n",
    "\n",
    "preds = mask_filler(text)\n",
    "\n",
    "for pred in preds:\n",
    "    print(f\">>> {pred['sequence']}\")"
   ]
  },
  {
   "cell_type": "markdown",
   "id": "b4ed47ee",
   "metadata": {},
   "source": [
    "### DistilBERT"
   ]
  },
  {
   "cell_type": "code",
   "execution_count": 7,
   "id": "17a70d99",
   "metadata": {},
   "outputs": [],
   "source": [
    "mask_filler = pipeline(\n",
    "    \"fill-mask\", model=\"distilbert-base-uncased\")"
   ]
  },
  {
   "cell_type": "code",
   "execution_count": 8,
   "id": "fa946a83",
   "metadata": {},
   "outputs": [
    {
     "name": "stdout",
     "output_type": "stream",
     "text": [
      ">>> the findings were discussed with experts.\n",
      ">>> the findings were discussed with skepticism.\n",
      ">>> the findings were discussed with colleagues.\n",
      ">>> the findings were discussed with caution.\n",
      ">>> the findings were discussed with others.\n"
     ]
    }
   ],
   "source": [
    "text = \"The findings were discussed with [MASK].\"\n",
    "\n",
    "preds = mask_filler(text)\n",
    "\n",
    "for pred in preds:\n",
    "    print(f\">>> {pred['sequence']}\")"
   ]
  },
  {
   "cell_type": "markdown",
   "id": "6fd37fca",
   "metadata": {},
   "source": [
    "### BioBERT"
   ]
  },
  {
   "cell_type": "code",
   "execution_count": 9,
   "id": "1dfd8d0f",
   "metadata": {},
   "outputs": [
    {
     "data": {
      "application/vnd.jupyter.widget-view+json": {
       "model_id": "c348a566fd4f4179aa9392637c108553",
       "version_major": 2,
       "version_minor": 0
      },
      "text/plain": [
       "Downloading:   0%|          | 0.00/462 [00:00<?, ?B/s]"
      ]
     },
     "metadata": {},
     "output_type": "display_data"
    },
    {
     "data": {
      "application/vnd.jupyter.widget-view+json": {
       "model_id": "3997bf5b15814abcb5e9ae104190d01f",
       "version_major": 2,
       "version_minor": 0
      },
      "text/plain": [
       "Downloading:   0%|          | 0.00/413M [00:00<?, ?B/s]"
      ]
     },
     "metadata": {},
     "output_type": "display_data"
    },
    {
     "name": "stderr",
     "output_type": "stream",
     "text": [
      "Some weights of BertForMaskedLM were not initialized from the model checkpoint at dmis-lab/biobert-v1.1 and are newly initialized: ['cls.predictions.transform.LayerNorm.bias', 'cls.predictions.bias', 'cls.predictions.decoder.weight', 'cls.predictions.transform.dense.bias', 'cls.predictions.transform.LayerNorm.weight', 'cls.predictions.transform.dense.weight']\n",
      "You should probably TRAIN this model on a down-stream task to be able to use it for predictions and inference.\n"
     ]
    },
    {
     "data": {
      "application/vnd.jupyter.widget-view+json": {
       "model_id": "792ac19cf1a741a4bc7c063d7cfa4819",
       "version_major": 2,
       "version_minor": 0
      },
      "text/plain": [
       "Downloading:   0%|          | 0.00/49.0 [00:00<?, ?B/s]"
      ]
     },
     "metadata": {},
     "output_type": "display_data"
    },
    {
     "data": {
      "application/vnd.jupyter.widget-view+json": {
       "model_id": "97cc5b56fc544fc09074b5c4bd975a0b",
       "version_major": 2,
       "version_minor": 0
      },
      "text/plain": [
       "Downloading:   0%|          | 0.00/208k [00:00<?, ?B/s]"
      ]
     },
     "metadata": {},
     "output_type": "display_data"
    },
    {
     "data": {
      "application/vnd.jupyter.widget-view+json": {
       "model_id": "aef930195ee7448391d644d092ccc983",
       "version_major": 2,
       "version_minor": 0
      },
      "text/plain": [
       "Downloading:   0%|          | 0.00/112 [00:00<?, ?B/s]"
      ]
     },
     "metadata": {},
     "output_type": "display_data"
    }
   ],
   "source": [
    "mask_filler = pipeline(\n",
    "    \"fill-mask\", model=\"dmis-lab/biobert-v1.1\")"
   ]
  },
  {
   "cell_type": "code",
   "execution_count": 10,
   "id": "8e321d38",
   "metadata": {},
   "outputs": [
    {
     "name": "stdout",
     "output_type": "stream",
     "text": [
      ">>> The findings were discussed withdance.\n",
      ">>> The findings were discussed withree.\n",
      ">>> The findings were discussed with mounts.\n",
      ">>> The findings were discussed with flies.\n",
      ">>> The findings were discussed with Beth.\n"
     ]
    }
   ],
   "source": [
    "text = \"The findings were discussed with [MASK].\"\n",
    "\n",
    "preds = mask_filler(text)\n",
    "\n",
    "for pred in preds:\n",
    "    print(f\">>> {pred['sequence']}\")"
   ]
  },
  {
   "cell_type": "code",
   "execution_count": null,
   "id": "45a97416",
   "metadata": {},
   "outputs": [],
   "source": []
  }
 ],
 "metadata": {
  "kernelspec": {
   "display_name": "Python 3",
   "language": "python",
   "name": "python3"
  },
  "language_info": {
   "codemirror_mode": {
    "name": "ipython",
    "version": 3
   },
   "file_extension": ".py",
   "mimetype": "text/x-python",
   "name": "python",
   "nbconvert_exporter": "python",
   "pygments_lexer": "ipython3",
   "version": "3.6.13"
  }
 },
 "nbformat": 4,
 "nbformat_minor": 5
}
