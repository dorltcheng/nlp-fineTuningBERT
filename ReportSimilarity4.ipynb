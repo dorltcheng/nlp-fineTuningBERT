{
 "cells": [
  {
   "cell_type": "markdown",
   "id": "93611150",
   "metadata": {},
   "source": [
    "# Report Similarity v4 \n",
    "Try 130 reports (fix this with more report samples) \n",
    "From tutorial: https://towardsdatascience.com/bert-for-measuring-text-similarity-eec91c6bf9e1"
   ]
  },
  {
   "cell_type": "code",
   "execution_count": 20,
   "id": "47d47cf6",
   "metadata": {},
   "outputs": [
    {
     "name": "stderr",
     "output_type": "stream",
     "text": [
      "Some weights of the model checkpoint at ICLbioengNLP/CXR_BioClinicalBERT_chunkedv1 were not used when initializing BertModel: ['cls.predictions.transform.dense.weight', 'cls.predictions.decoder.bias', 'cls.predictions.decoder.weight', 'cls.predictions.transform.LayerNorm.bias', 'cls.predictions.transform.LayerNorm.weight', 'cls.predictions.transform.dense.bias', 'cls.predictions.bias']\n",
      "- This IS expected if you are initializing BertModel from the checkpoint of a model trained on another task or with another architecture (e.g. initializing a BertForSequenceClassification model from a BertForPreTraining model).\n",
      "- This IS NOT expected if you are initializing BertModel from the checkpoint of a model that you expect to be exactly identical (initializing a BertForSequenceClassification model from a BertForSequenceClassification model).\n",
      "Some weights of BertModel were not initialized from the model checkpoint at ICLbioengNLP/CXR_BioClinicalBERT_chunkedv1 and are newly initialized: ['bert.pooler.dense.bias', 'bert.pooler.dense.weight']\n",
      "You should probably TRAIN this model on a down-stream task to be able to use it for predictions and inference.\n"
     ]
    }
   ],
   "source": [
    "import pandas as pd\n",
    "import re\n",
    "from datasets import Dataset, load_dataset\n",
    "from transformers import AutoTokenizer, AutoModel\n",
    "import torch\n",
    "import nltk\n",
    "from sklearn.metrics.pairwise import cosine_similarity\n",
    "\n",
    "tokenizer = AutoTokenizer.from_pretrained(\"ICLbioengNLP/CXR_BioClinicalBERT_chunkedv1\")\n",
    "model = AutoModel.from_pretrained('ICLbioengNLP/CXR_BioClinicalBERT_chunkedv1')"
   ]
  },
  {
   "cell_type": "code",
   "execution_count": 2,
   "id": "0bae5bb9",
   "metadata": {},
   "outputs": [
    {
     "data": {
      "text/html": [
       "<div>\n",
       "<style scoped>\n",
       "    .dataframe tbody tr th:only-of-type {\n",
       "        vertical-align: middle;\n",
       "    }\n",
       "\n",
       "    .dataframe tbody tr th {\n",
       "        vertical-align: top;\n",
       "    }\n",
       "\n",
       "    .dataframe thead th {\n",
       "        text-align: right;\n",
       "    }\n",
       "</style>\n",
       "<table border=\"1\" class=\"dataframe\">\n",
       "  <thead>\n",
       "    <tr style=\"text-align: right;\">\n",
       "      <th></th>\n",
       "      <th>study_id</th>\n",
       "      <th>diagnosis</th>\n",
       "      <th>diagnosis_id</th>\n",
       "      <th>raw_report</th>\n",
       "    </tr>\n",
       "  </thead>\n",
       "  <tbody>\n",
       "    <tr>\n",
       "      <th>0</th>\n",
       "      <td>52067803</td>\n",
       "      <td>Atelectasis</td>\n",
       "      <td>1</td>\n",
       "      <td>FINAL REPORT ...</td>\n",
       "    </tr>\n",
       "    <tr>\n",
       "      <th>1</th>\n",
       "      <td>51065211</td>\n",
       "      <td>Atelectasis</td>\n",
       "      <td>1</td>\n",
       "      <td>FINAL REPORT ...</td>\n",
       "    </tr>\n",
       "    <tr>\n",
       "      <th>2</th>\n",
       "      <td>53109065</td>\n",
       "      <td>Atelectasis</td>\n",
       "      <td>1</td>\n",
       "      <td>FINAL REPORT ...</td>\n",
       "    </tr>\n",
       "    <tr>\n",
       "      <th>3</th>\n",
       "      <td>56349965</td>\n",
       "      <td>Atelectasis</td>\n",
       "      <td>1</td>\n",
       "      <td>FINAL REPORT ...</td>\n",
       "    </tr>\n",
       "    <tr>\n",
       "      <th>4</th>\n",
       "      <td>58788638</td>\n",
       "      <td>Atelectasis</td>\n",
       "      <td>1</td>\n",
       "      <td>FINAL REPORT ...</td>\n",
       "    </tr>\n",
       "    <tr>\n",
       "      <th>...</th>\n",
       "      <td>...</td>\n",
       "      <td>...</td>\n",
       "      <td>...</td>\n",
       "      <td>...</td>\n",
       "    </tr>\n",
       "    <tr>\n",
       "      <th>112</th>\n",
       "      <td>50771383</td>\n",
       "      <td>No Finding</td>\n",
       "      <td>13</td>\n",
       "      <td>FINAL REPORT ...</td>\n",
       "    </tr>\n",
       "    <tr>\n",
       "      <th>113</th>\n",
       "      <td>54205396</td>\n",
       "      <td>No Finding</td>\n",
       "      <td>13</td>\n",
       "      <td>FINAL REPORT ...</td>\n",
       "    </tr>\n",
       "    <tr>\n",
       "      <th>114</th>\n",
       "      <td>55697293</td>\n",
       "      <td>No Finding</td>\n",
       "      <td>13</td>\n",
       "      <td>FINAL REPORT ...</td>\n",
       "    </tr>\n",
       "    <tr>\n",
       "      <th>115</th>\n",
       "      <td>54577367</td>\n",
       "      <td>No Finding</td>\n",
       "      <td>13</td>\n",
       "      <td>FINAL REPORT ...</td>\n",
       "    </tr>\n",
       "    <tr>\n",
       "      <th>116</th>\n",
       "      <td>54980801</td>\n",
       "      <td>No Finding</td>\n",
       "      <td>13</td>\n",
       "      <td>FINAL REPORT ...</td>\n",
       "    </tr>\n",
       "  </tbody>\n",
       "</table>\n",
       "<p>117 rows × 4 columns</p>\n",
       "</div>"
      ],
      "text/plain": [
       "     study_id    diagnosis  diagnosis_id  \\\n",
       "0    52067803  Atelectasis             1   \n",
       "1    51065211  Atelectasis             1   \n",
       "2    53109065  Atelectasis             1   \n",
       "3    56349965  Atelectasis             1   \n",
       "4    58788638  Atelectasis             1   \n",
       "..        ...          ...           ...   \n",
       "112  50771383   No Finding            13   \n",
       "113  54205396   No Finding            13   \n",
       "114  55697293   No Finding            13   \n",
       "115  54577367   No Finding            13   \n",
       "116  54980801   No Finding            13   \n",
       "\n",
       "                                            raw_report  \n",
       "0                                     FINAL REPORT ...  \n",
       "1                                     FINAL REPORT ...  \n",
       "2                                     FINAL REPORT ...  \n",
       "3                                     FINAL REPORT ...  \n",
       "4                                     FINAL REPORT ...  \n",
       "..                                                 ...  \n",
       "112                                   FINAL REPORT ...  \n",
       "113                                   FINAL REPORT ...  \n",
       "114                                   FINAL REPORT ...  \n",
       "115                                   FINAL REPORT ...  \n",
       "116                                   FINAL REPORT ...  \n",
       "\n",
       "[117 rows x 4 columns]"
      ]
     },
     "metadata": {},
     "output_type": "display_data"
    }
   ],
   "source": [
    "report_df = pd.read_csv('117_samples_ready.csv')\n",
    "display(report_df.head(n=117))"
   ]
  },
  {
   "cell_type": "code",
   "execution_count": 3,
   "id": "64f48809",
   "metadata": {},
   "outputs": [
    {
     "name": "stderr",
     "output_type": "stream",
     "text": [
      "Using custom data configuration default-838b851e9e776c1f\n",
      "Reusing dataset csv (/media/SharedUsers/dlc19/home/.cache/huggingface/datasets/csv/default-838b851e9e776c1f/0.0.0/6b9057d9e23d9d8a2f05b985917a0da84d70c5dae3d22ddd8a3f22fb01c69d9e)\n"
     ]
    },
    {
     "data": {
      "application/vnd.jupyter.widget-view+json": {
       "model_id": "021eff3b7d124211bab0229915275562",
       "version_major": 2,
       "version_minor": 0
      },
      "text/plain": [
       "  0%|          | 0/1 [00:00<?, ?it/s]"
      ]
     },
     "metadata": {},
     "output_type": "display_data"
    },
    {
     "data": {
      "text/plain": [
       "DatasetDict({\n",
       "    test: Dataset({\n",
       "        features: ['study_id', 'diagnosis', 'diagnosis_id', 'raw_report'],\n",
       "        num_rows: 117\n",
       "    })\n",
       "})"
      ]
     },
     "execution_count": 3,
     "metadata": {},
     "output_type": "execute_result"
    }
   ],
   "source": [
    "data_files = {\"test\": \"117_samples_ready.csv\"}\n",
    "report_dataset = load_dataset(\"csv\", data_files=data_files)\n",
    "\n",
    "report_dataset"
   ]
  },
  {
   "cell_type": "markdown",
   "id": "19219004",
   "metadata": {},
   "source": [
    "### Preparing the dataset (130 reports) and the targeted report "
   ]
  },
  {
   "cell_type": "code",
   "execution_count": 24,
   "id": "3fea66e8",
   "metadata": {},
   "outputs": [
    {
     "name": "stdout",
     "output_type": "stream",
     "text": [
      "117\n"
     ]
    }
   ],
   "source": [
    "sample_size = len(report_dataset[\"test\"][\"study_id\"])\n",
    "sample_dataset = report_dataset[\"test\"][slice(0, sample_size, None)]\n",
    "print(sample_size)"
   ]
  },
  {
   "cell_type": "markdown",
   "id": "d5866e92",
   "metadata": {},
   "source": [
    "### Prepare the targeted report"
   ]
  },
  {
   "cell_type": "code",
   "execution_count": 25,
   "id": "aab11406",
   "metadata": {},
   "outputs": [
    {
     "name": "stderr",
     "output_type": "stream",
     "text": [
      "Using custom data configuration default-06f97747e584bcce\n",
      "Reusing dataset csv (/media/SharedUsers/dlc19/home/.cache/huggingface/datasets/csv/default-06f97747e584bcce/0.0.0/6b9057d9e23d9d8a2f05b985917a0da84d70c5dae3d22ddd8a3f22fb01c69d9e)\n"
     ]
    },
    {
     "data": {
      "application/vnd.jupyter.widget-view+json": {
       "model_id": "80ee69072ab54bf282a305d30441df57",
       "version_major": 2,
       "version_minor": 0
      },
      "text/plain": [
       "  0%|          | 0/1 [00:00<?, ?it/s]"
      ]
     },
     "metadata": {},
     "output_type": "display_data"
    },
    {
     "data": {
      "text/plain": [
       "DatasetDict({\n",
       "    test: Dataset({\n",
       "        features: ['study_id', 'diagnosis', 'diagnosis_id', 'raw_report'],\n",
       "        num_rows: 13\n",
       "    })\n",
       "})"
      ]
     },
     "execution_count": 25,
     "metadata": {},
     "output_type": "execute_result"
    }
   ],
   "source": [
    "# Random targeted reports\n",
    "Tdata_files = {\"test\": \"13_targeted_reports.csv\"}\n",
    "targeted_dataset = load_dataset(\"csv\", data_files=Tdata_files)\n",
    "\n",
    "targeted_dataset"
   ]
  },
  {
   "cell_type": "code",
   "execution_count": 26,
   "id": "2b408560",
   "metadata": {},
   "outputs": [
    {
     "name": "stdout",
     "output_type": "stream",
     "text": [
      "{'study_id': 57325376, 'diagnosis': 'Lung Lesion', 'diagnosis_id': 7, 'raw_report': '                                 FINAL REPORT EXAMINATION  CHEST AP AND LAT  INDICATION  History F with fever  altered mental status  TECHNIQUE  AP and lateral views of the chest  COMPARISON  Chest radiograph  CT chest   FINDINGS   Cardiac silhouette size is normal  The patient is status post right upper lobectomy  Mediastinal and hilar contours are unchanged with prominence of the left hilum reflective of underlying lymphadenopathy better assessed on the recent CT  Lungs are hyperinflated without focal consolidation  Known nodules within the left upper lobe and left lower lobe are better appreciated on the previous CT  No pleural effusion or pneumothorax is present  There are no acute osseous abnormalities  IMPRESSION   Status post right upper lobectomy  Known nodules within the left upper and lower lobes are better assessed on the recent CT as is the left hilar lymphadenopathy'}\n"
     ]
    }
   ],
   "source": [
    "targeted_report = targeted_dataset[\"test\"][6] \n",
    "print(targeted_report)"
   ]
  },
  {
   "cell_type": "code",
   "execution_count": 27,
   "id": "bc4dc9c9",
   "metadata": {},
   "outputs": [
    {
     "name": "stdout",
     "output_type": "stream",
     "text": [
      "118\n",
      "118\n",
      "118\n",
      "118\n"
     ]
    }
   ],
   "source": [
    "sample_dataset[\"study_id\"].insert(0, targeted_report[\"study_id\"])\n",
    "sample_dataset[\"diagnosis\"].insert(0, targeted_report[\"diagnosis\"])\n",
    "sample_dataset[\"diagnosis_id\"].insert(0, targeted_report[\"diagnosis_id\"])\n",
    "sample_dataset[\"raw_report\"].insert(0, targeted_report[\"raw_report\"])\n",
    "\n",
    "# print(sample_dataset)\n",
    "print(len(sample_dataset[\"study_id\"]))\n",
    "print(len(sample_dataset[\"diagnosis\"]))\n",
    "print(len(sample_dataset[\"diagnosis_id\"]))\n",
    "print(len(sample_dataset[\"raw_report\"]))"
   ]
  },
  {
   "cell_type": "markdown",
   "id": "22492173",
   "metadata": {},
   "source": [
    "### Mean pooling operation"
   ]
  },
  {
   "cell_type": "code",
   "execution_count": 28,
   "id": "3f989811",
   "metadata": {},
   "outputs": [],
   "source": [
    "# initialize dictionary that will contain tokenized sentences\n",
    "tokens = {'input_ids': [], 'attention_mask': []}\n",
    "\n",
    "for i in range(sample_size+1):\n",
    "    report = sample_dataset[\"raw_report\"][i]\n",
    "    \n",
    "    # tokenize sentence and append to dictionary lists\n",
    "    new_tokens = tokenizer.encode_plus(report, max_length=150, truncation=True,\n",
    "                                       padding='max_length', return_tensors='pt')\n",
    "    tokens['input_ids'].append(new_tokens['input_ids'][0])\n",
    "    tokens['attention_mask'].append(new_tokens['attention_mask'][0])"
   ]
  },
  {
   "cell_type": "code",
   "execution_count": 29,
   "id": "013d164f",
   "metadata": {},
   "outputs": [
    {
     "name": "stdout",
     "output_type": "stream",
     "text": [
      "tensor([[  101,  1509,  2592,  ..., 11806,  1439,   102],\n",
      "        [  101,  1509,  2592,  ...,     0,     0,     0],\n",
      "        [  101,  1509,  2592,  ...,     0,     0,     0],\n",
      "        ...,\n",
      "        [  101,  1509,  2592,  ...,     0,     0,     0],\n",
      "        [  101,  1509,  2592,  ...,     0,     0,     0],\n",
      "        [  101,  1509,  2592,  ...,     0,     0,     0]])\n",
      "tensor([[1, 1, 1,  ..., 1, 1, 1],\n",
      "        [1, 1, 1,  ..., 0, 0, 0],\n",
      "        [1, 1, 1,  ..., 0, 0, 0],\n",
      "        ...,\n",
      "        [1, 1, 1,  ..., 0, 0, 0],\n",
      "        [1, 1, 1,  ..., 0, 0, 0],\n",
      "        [1, 1, 1,  ..., 0, 0, 0]])\n"
     ]
    }
   ],
   "source": [
    "# reformat list of tensors into single tensor\n",
    "tokens['input_ids'] = torch.stack(tokens['input_ids'])\n",
    "tokens['attention_mask'] = torch.stack(tokens['attention_mask'])\n",
    "print(tokens['input_ids'])\n",
    "print(tokens['attention_mask'])"
   ]
  },
  {
   "cell_type": "code",
   "execution_count": 30,
   "id": "f9d7b1b8",
   "metadata": {},
   "outputs": [
    {
     "data": {
      "text/plain": [
       "torch.Size([118, 150])"
      ]
     },
     "execution_count": 30,
     "metadata": {},
     "output_type": "execute_result"
    }
   ],
   "source": [
    "tokens['input_ids'].shape"
   ]
  },
  {
   "cell_type": "code",
   "execution_count": 31,
   "id": "03033dd9",
   "metadata": {},
   "outputs": [
    {
     "data": {
      "text/plain": [
       "odict_keys(['last_hidden_state', 'pooler_output'])"
      ]
     },
     "execution_count": 31,
     "metadata": {},
     "output_type": "execute_result"
    }
   ],
   "source": [
    "outputs = model(**tokens)\n",
    "outputs.keys()"
   ]
  },
  {
   "cell_type": "code",
   "execution_count": 32,
   "id": "eb829268",
   "metadata": {},
   "outputs": [
    {
     "data": {
      "text/plain": [
       "torch.Size([118, 150, 768])"
      ]
     },
     "execution_count": 32,
     "metadata": {},
     "output_type": "execute_result"
    }
   ],
   "source": [
    "embeddings = outputs.last_hidden_state\n",
    "embeddings.shape"
   ]
  },
  {
   "cell_type": "markdown",
   "id": "b2a2fed7",
   "metadata": {},
   "source": [
    "The outputs 'last_hidden_state' tensor contains the dense vector representations of our text:"
   ]
  },
  {
   "cell_type": "code",
   "execution_count": 33,
   "id": "93e51a93",
   "metadata": {},
   "outputs": [],
   "source": [
    "def mean_pooling(model_output, attention_mask):\n",
    "    # Access the last_hidden_state\n",
    "    token_embeddings = model_output.last_hidden_state\n",
    "    \n",
    "    # multiply each value in the embedding tensor by its respective attention_mask value so to ignore [PAD] tokens\n",
    "    input_mask_expanded = attention_mask.unsqueeze(-1).expand(token_embeddings.size()).float()\n",
    "    sum_embeddings = torch.sum(token_embeddings * input_mask_expanded, 1)\n",
    "    sum_mask = torch.clamp(input_mask_expanded.sum(1), min=1e-9)\n",
    "    return sum_embeddings / sum_mask"
   ]
  },
  {
   "cell_type": "code",
   "execution_count": 34,
   "id": "2aa9cf9c",
   "metadata": {},
   "outputs": [
    {
     "data": {
      "text/plain": [
       "tensor([[ 0.2349, -0.2184,  0.1551,  ...,  0.1679, -0.1031,  0.0034],\n",
       "        [ 0.2368, -0.0895,  0.1939,  ...,  0.3080,  0.0483,  0.0805],\n",
       "        [-0.0612, -0.2307,  0.0327,  ...,  0.4765,  0.0502,  0.1212],\n",
       "        ...,\n",
       "        [ 0.3066, -0.1377, -0.0080,  ...,  0.2206,  0.0121, -0.0352],\n",
       "        [ 0.1811, -0.1114,  0.2049,  ...,  0.2766, -0.0548,  0.0574],\n",
       "        [ 0.1901, -0.1180,  0.0938,  ...,  0.3147, -0.1349,  0.0778]],\n",
       "       grad_fn=<DivBackward0>)"
      ]
     },
     "execution_count": 34,
     "metadata": {},
     "output_type": "execute_result"
    }
   ],
   "source": [
    "mean_pooled_embeddings = mean_pooling(outputs, tokens['attention_mask'])\n",
    "mean_pooled_embeddings"
   ]
  },
  {
   "cell_type": "markdown",
   "id": "dadf684e",
   "metadata": {},
   "source": [
    "### Calculating dense similarity vector - cosine similarity"
   ]
  },
  {
   "cell_type": "code",
   "execution_count": 35,
   "id": "15a8f341",
   "metadata": {},
   "outputs": [
    {
     "name": "stdout",
     "output_type": "stream",
     "text": [
      "[[0.9454146  0.92792255 0.89987683 0.946512   0.94648254 0.9442287\n",
      "  0.9662972  0.9336905  0.93620676 0.92513025 0.9050571  0.9534992\n",
      "  0.91329116 0.95249367 0.93540686 0.9307746  0.95053923 0.88826764\n",
      "  0.9532353  0.9148663  0.92872137 0.8996556  0.8878039  0.95198953\n",
      "  0.9186767  0.90878826 0.88843036 0.94995457 0.9295746  0.9287419\n",
      "  0.9514549  0.89952695 0.8993743  0.94040364 0.9309712  0.92861676\n",
      "  0.93524855 0.90142894 0.9006885  0.9246595  0.92472607 0.9290521\n",
      "  0.9274256  0.8964752  0.9286298  0.9171247  0.937141   0.94048107\n",
      "  0.88846415 0.9358799  0.93947923 0.9300941  0.92453194 0.9550014\n",
      "  0.9117544  0.942248   0.95171183 0.92484736 0.9139477  0.9456095\n",
      "  0.9534458  0.9511833  0.9640048  0.9438749  0.93476856 0.9308376\n",
      "  0.95438635 0.9536074  0.9358557  0.94916284 0.9403492  0.94466954\n",
      "  0.9567669  0.9468265  0.9372324  0.87049925 0.8793344  0.91053003\n",
      "  0.93204653 0.9362133  0.8986268  0.92715925 0.94401795 0.90686256\n",
      "  0.9056341  0.9176722  0.9197779  0.94549525 0.8547751  0.8980895\n",
      "  0.94008136 0.90458095 0.8992523  0.9543961  0.93673337 0.9772017\n",
      "  0.9467207  0.9469601  0.93690366 0.86325574 0.9348331  0.90298057\n",
      "  0.9056229  0.9534056  0.89610964 0.94815576 0.94942373 0.9407276\n",
      "  0.95816696 0.9576758  0.93344426 0.94297415 0.89914834 0.95203245\n",
      "  0.9362073  0.9705821  0.9464973 ]]\n",
      "117\n"
     ]
    }
   ],
   "source": [
    "# convert from PyTorch tensor to numpy array\n",
    "mean_pooled_NPembeddings = mean_pooled_embeddings.detach().numpy()\n",
    "\n",
    "# calculate\n",
    "cos_similarities = cosine_similarity(\n",
    "    [mean_pooled_NPembeddings[0]],\n",
    "    mean_pooled_NPembeddings[1:]\n",
    ")\n",
    "\n",
    "print(cos_similarities)\n",
    "print(len(cos_similarities[0]))"
   ]
  },
  {
   "cell_type": "code",
   "execution_count": 36,
   "id": "29cb7287",
   "metadata": {},
   "outputs": [],
   "source": [
    "# Put all of them into a table:\n",
    "# remove the targeted report from sample_dataset first\n",
    "removed_id = sample_dataset[\"study_id\"].pop(0)\n",
    "removed_report = sample_dataset[\"raw_report\"].pop(0)\n",
    "removed_diag = sample_dataset[\"diagnosis\"].pop(0)\n",
    "removed_diag_id = sample_dataset[\"diagnosis_id\"].pop(0)"
   ]
  },
  {
   "cell_type": "code",
   "execution_count": 37,
   "id": "7829fca1",
   "metadata": {},
   "outputs": [
    {
     "name": "stdout",
     "output_type": "stream",
     "text": [
      "117\n",
      "117\n",
      "117\n"
     ]
    }
   ],
   "source": [
    "sample_dataset['cosine_similarity'] = cos_similarities[0].tolist()\n",
    "\n",
    "print(len(sample_dataset[\"study_id\"]))\n",
    "print(len(sample_dataset[\"raw_report\"]))\n",
    "print(len(sample_dataset[\"cosine_similarity\"]))"
   ]
  },
  {
   "cell_type": "code",
   "execution_count": 38,
   "id": "97647902",
   "metadata": {},
   "outputs": [
    {
     "name": "stdout",
     "output_type": "stream",
     "text": [
      "Top 10 most similar reports with the targeted report of >> Lung Lesion  :\n"
     ]
    },
    {
     "data": {
      "text/html": [
       "<div>\n",
       "<style scoped>\n",
       "    .dataframe tbody tr th:only-of-type {\n",
       "        vertical-align: middle;\n",
       "    }\n",
       "\n",
       "    .dataframe tbody tr th {\n",
       "        vertical-align: top;\n",
       "    }\n",
       "\n",
       "    .dataframe thead th {\n",
       "        text-align: right;\n",
       "    }\n",
       "</style>\n",
       "<table border=\"1\" class=\"dataframe\">\n",
       "  <thead>\n",
       "    <tr style=\"text-align: right;\">\n",
       "      <th></th>\n",
       "      <th>study_id</th>\n",
       "      <th>diagnosis</th>\n",
       "      <th>diagnosis_id</th>\n",
       "      <th>raw_report</th>\n",
       "      <th>cosine_similarity</th>\n",
       "    </tr>\n",
       "  </thead>\n",
       "  <tbody>\n",
       "    <tr>\n",
       "      <th>95</th>\n",
       "      <td>57724025</td>\n",
       "      <td>Pneumonia</td>\n",
       "      <td>11</td>\n",
       "      <td>FINAL REPORT ...</td>\n",
       "      <td>0.977202</td>\n",
       "    </tr>\n",
       "    <tr>\n",
       "      <th>115</th>\n",
       "      <td>54577367</td>\n",
       "      <td>No Finding</td>\n",
       "      <td>13</td>\n",
       "      <td>FINAL REPORT ...</td>\n",
       "      <td>0.970582</td>\n",
       "    </tr>\n",
       "    <tr>\n",
       "      <th>6</th>\n",
       "      <td>57693229</td>\n",
       "      <td>Atelectasis</td>\n",
       "      <td>1</td>\n",
       "      <td>FINAL REPORT ...</td>\n",
       "      <td>0.966297</td>\n",
       "    </tr>\n",
       "    <tr>\n",
       "      <th>62</th>\n",
       "      <td>51334169</td>\n",
       "      <td>Lung Lesion</td>\n",
       "      <td>7</td>\n",
       "      <td>FINAL REPORT ...</td>\n",
       "      <td>0.964005</td>\n",
       "    </tr>\n",
       "    <tr>\n",
       "      <th>108</th>\n",
       "      <td>50414267</td>\n",
       "      <td>No Finding</td>\n",
       "      <td>13</td>\n",
       "      <td>FINAL REPORT ...</td>\n",
       "      <td>0.958167</td>\n",
       "    </tr>\n",
       "    <tr>\n",
       "      <th>109</th>\n",
       "      <td>53189527</td>\n",
       "      <td>No Finding</td>\n",
       "      <td>13</td>\n",
       "      <td>FINAL REPORT ...</td>\n",
       "      <td>0.957676</td>\n",
       "    </tr>\n",
       "    <tr>\n",
       "      <th>72</th>\n",
       "      <td>57861150</td>\n",
       "      <td>Pleural Effusion</td>\n",
       "      <td>9</td>\n",
       "      <td>FINAL REPORT ...</td>\n",
       "      <td>0.956767</td>\n",
       "    </tr>\n",
       "    <tr>\n",
       "      <th>53</th>\n",
       "      <td>53891313</td>\n",
       "      <td>Fracture</td>\n",
       "      <td>6</td>\n",
       "      <td>FINAL REPORT ...</td>\n",
       "      <td>0.955001</td>\n",
       "    </tr>\n",
       "    <tr>\n",
       "      <th>93</th>\n",
       "      <td>58270659</td>\n",
       "      <td>Pneumonia</td>\n",
       "      <td>11</td>\n",
       "      <td>FINAL REPORT ...</td>\n",
       "      <td>0.954396</td>\n",
       "    </tr>\n",
       "    <tr>\n",
       "      <th>66</th>\n",
       "      <td>53268982</td>\n",
       "      <td>Lung Opacity</td>\n",
       "      <td>8</td>\n",
       "      <td>FINAL REPORT ...</td>\n",
       "      <td>0.954386</td>\n",
       "    </tr>\n",
       "  </tbody>\n",
       "</table>\n",
       "</div>"
      ],
      "text/plain": [
       "     study_id         diagnosis  diagnosis_id  \\\n",
       "95   57724025         Pneumonia            11   \n",
       "115  54577367        No Finding            13   \n",
       "6    57693229       Atelectasis             1   \n",
       "62   51334169       Lung Lesion             7   \n",
       "108  50414267        No Finding            13   \n",
       "109  53189527        No Finding            13   \n",
       "72   57861150  Pleural Effusion             9   \n",
       "53   53891313          Fracture             6   \n",
       "93   58270659         Pneumonia            11   \n",
       "66   53268982      Lung Opacity             8   \n",
       "\n",
       "                                            raw_report  cosine_similarity  \n",
       "95                                    FINAL REPORT ...           0.977202  \n",
       "115                                   FINAL REPORT ...           0.970582  \n",
       "6                                     FINAL REPORT ...           0.966297  \n",
       "62                                    FINAL REPORT ...           0.964005  \n",
       "108                                   FINAL REPORT ...           0.958167  \n",
       "109                                   FINAL REPORT ...           0.957676  \n",
       "72                                    FINAL REPORT ...           0.956767  \n",
       "53                                    FINAL REPORT ...           0.955001  \n",
       "93                                    FINAL REPORT ...           0.954396  \n",
       "66                                    FINAL REPORT ...           0.954386  "
      ]
     },
     "metadata": {},
     "output_type": "display_data"
    }
   ],
   "source": [
    "cos_sim_df = pd.DataFrame.from_dict(sample_dataset)\n",
    "sort_cos_sim_df = cos_sim_df.sort_values(by=['cosine_similarity'], ascending=False)\n",
    "print(\"Top 10 most similar reports with the targeted report of >>\", removed_diag, \" :\")\n",
    "display(sort_cos_sim_df.head(n=10))"
   ]
  },
  {
   "cell_type": "code",
   "execution_count": null,
   "id": "d035f5d9",
   "metadata": {},
   "outputs": [],
   "source": []
  },
  {
   "cell_type": "code",
   "execution_count": null,
   "id": "ccc11972",
   "metadata": {},
   "outputs": [],
   "source": []
  },
  {
   "cell_type": "markdown",
   "id": "072bd96e",
   "metadata": {},
   "source": [
    "### Clustering with UMAP \n",
    "**Just playing around, not working actually!!!**"
   ]
  },
  {
   "cell_type": "code",
   "execution_count": 21,
   "id": "8a5aa0e6",
   "metadata": {},
   "outputs": [],
   "source": [
    "import umap\n",
    "umap_embeddings = umap.UMAP(n_neighbors=15, \n",
    "                            n_components=5, \n",
    "                            metric='cosine').fit_transform(mean_pooled_NPembeddings)"
   ]
  },
  {
   "cell_type": "code",
   "execution_count": 22,
   "id": "6f1ef4c2",
   "metadata": {},
   "outputs": [],
   "source": [
    "import hdbscan\n",
    "cluster = hdbscan.HDBSCAN(min_cluster_size=10,\n",
    "                          metric='euclidean',                      \n",
    "                          cluster_selection_method='eom').fit(umap_embeddings)"
   ]
  },
  {
   "cell_type": "code",
   "execution_count": 23,
   "id": "cd5cd7f2",
   "metadata": {},
   "outputs": [
    {
     "data": {
      "text/plain": [
       "<matplotlib.colorbar.Colorbar at 0x7fb141fd94e0>"
      ]
     },
     "execution_count": 23,
     "metadata": {},
     "output_type": "execute_result"
    },
    {
     "data": {
      "image/png": "[encoded data removed]",
      "text/plain": [
       "<Figure size 1440x720 with 2 Axes>"
      ]
     },
     "metadata": {
      "needs_background": "light"
     },
     "output_type": "display_data"
    }
   ],
   "source": [
    "import matplotlib.pyplot as plt\n",
    "\n",
    "# Prepare data\n",
    "umap_data = umap.UMAP(n_neighbors=15, n_components=2, min_dist=0.0, metric='cosine').fit_transform(mean_pooled_NPembeddings)\n",
    "result = pd.DataFrame(umap_data, columns=['x', 'y'])\n",
    "result['labels'] = cluster.labels_\n",
    "\n",
    "# Visualize clusters\n",
    "fig, ax = plt.subplots(figsize=(20, 10))\n",
    "outliers = result.loc[result.labels == -1, :]\n",
    "clustered = result.loc[result.labels != -1, :]\n",
    "plt.scatter(outliers.x, outliers.y, color='#BDBDBD', s=0.05)\n",
    "plt.scatter(clustered.x, clustered.y, c=clustered.labels, s=0.05, cmap='hsv_r')\n",
    "plt.colorbar()"
   ]
  },
  {
   "cell_type": "code",
   "execution_count": null,
   "id": "3e477552",
   "metadata": {},
   "outputs": [],
   "source": []
  },
  {
   "cell_type": "code",
   "execution_count": null,
   "id": "c288583e",
   "metadata": {},
   "outputs": [],
   "source": []
  }
 ],
 "metadata": {
  "kernelspec": {
   "display_name": "Python 3",
   "language": "python",
   "name": "python3"
  },
  "language_info": {
   "codemirror_mode": {
    "name": "ipython",
    "version": 3
   },
   "file_extension": ".py",
   "mimetype": "text/x-python",
   "name": "python",
   "nbconvert_exporter": "python",
   "pygments_lexer": "ipython3",
   "version": "3.6.13"
  }
 },
 "nbformat": 4,
 "nbformat_minor": 5
}
