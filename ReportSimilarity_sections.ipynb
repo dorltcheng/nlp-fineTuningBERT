{
 "cells": [
  {
   "cell_type": "markdown",
   "id": "b6a77f01",
   "metadata": {},
   "source": [
    "# Report Similarity v5 (Similarity between sections) \n",
    "- used `final_samples.csv`\n",
    "- From tutorial: https://towardsdatascience.com/bert-for-measuring-text-similarity-eec91c6bf9e1"
   ]
  },
  {
   "cell_type": "code",
   "execution_count": 1,
   "id": "fcd37891",
   "metadata": {},
   "outputs": [
    {
     "name": "stderr",
     "output_type": "stream",
     "text": [
      "Some weights of the model checkpoint at ICLbioengNLP/CXR_BioClinicalBERT_chunkedv1 were not used when initializing BertModel: ['cls.predictions.transform.LayerNorm.bias', 'cls.predictions.bias', 'cls.predictions.decoder.weight', 'cls.predictions.transform.dense.weight', 'cls.predictions.decoder.bias', 'cls.predictions.transform.LayerNorm.weight', 'cls.predictions.transform.dense.bias']\n",
      "- This IS expected if you are initializing BertModel from the checkpoint of a model trained on another task or with another architecture (e.g. initializing a BertForSequenceClassification model from a BertForPreTraining model).\n",
      "- This IS NOT expected if you are initializing BertModel from the checkpoint of a model that you expect to be exactly identical (initializing a BertForSequenceClassification model from a BertForSequenceClassification model).\n",
      "Some weights of BertModel were not initialized from the model checkpoint at ICLbioengNLP/CXR_BioClinicalBERT_chunkedv1 and are newly initialized: ['bert.pooler.dense.bias', 'bert.pooler.dense.weight']\n",
      "You should probably TRAIN this model on a down-stream task to be able to use it for predictions and inference.\n"
     ]
    }
   ],
   "source": [
    "import pandas as pd\n",
    "import re\n",
    "from datasets import Dataset, load_dataset\n",
    "from transformers import AutoTokenizer, AutoModel\n",
    "import torch\n",
    "import nltk\n",
    "from sklearn.metrics.pairwise import cosine_similarity\n",
    "\n",
    "tokenizer = AutoTokenizer.from_pretrained(\"ICLbioengNLP/CXR_BioClinicalBERT_chunkedv1\")\n",
    "model = AutoModel.from_pretrained('ICLbioengNLP/CXR_BioClinicalBERT_chunkedv1')"
   ]
  },
  {
   "cell_type": "code",
   "execution_count": 2,
   "id": "e12dc1fe",
   "metadata": {},
   "outputs": [
    {
     "name": "stdout",
     "output_type": "stream",
     "text": [
      "164\n"
     ]
    },
    {
     "data": {
      "text/html": [
       "<div>\n",
       "<style scoped>\n",
       "    .dataframe tbody tr th:only-of-type {\n",
       "        vertical-align: middle;\n",
       "    }\n",
       "\n",
       "    .dataframe tbody tr th {\n",
       "        vertical-align: top;\n",
       "    }\n",
       "\n",
       "    .dataframe thead th {\n",
       "        text-align: right;\n",
       "    }\n",
       "</style>\n",
       "<table border=\"1\" class=\"dataframe\">\n",
       "  <thead>\n",
       "    <tr style=\"text-align: right;\">\n",
       "      <th></th>\n",
       "      <th>study_id</th>\n",
       "      <th>diagnosis</th>\n",
       "      <th>diagnosis_id</th>\n",
       "      <th>impression</th>\n",
       "      <th>findings</th>\n",
       "      <th>Atelectasis</th>\n",
       "      <th>Cardiomegaly</th>\n",
       "      <th>Consolidation</th>\n",
       "      <th>Edema</th>\n",
       "      <th>Enlarged Cardiomediastinum</th>\n",
       "      <th>Fracture</th>\n",
       "      <th>Lung Lesion</th>\n",
       "      <th>Lung Opacity</th>\n",
       "      <th>No Finding</th>\n",
       "      <th>Pleural Effusion</th>\n",
       "      <th>Pleural Other</th>\n",
       "      <th>Pneumonia</th>\n",
       "      <th>Pneumothorax</th>\n",
       "    </tr>\n",
       "  </thead>\n",
       "  <tbody>\n",
       "    <tr>\n",
       "      <th>0</th>\n",
       "      <td>s58402174</td>\n",
       "      <td>Atelectasis</td>\n",
       "      <td>1</td>\n",
       "      <td>Increasing bibasilar atelectasis.  Possible mi...</td>\n",
       "      <td>AP portable semi upright view of the chest.\\n ...</td>\n",
       "      <td>Positive</td>\n",
       "      <td>NaN</td>\n",
       "      <td>NaN</td>\n",
       "      <td>Uncertain</td>\n",
       "      <td>NaN</td>\n",
       "      <td>NaN</td>\n",
       "      <td>NaN</td>\n",
       "      <td>NaN</td>\n",
       "      <td>NaN</td>\n",
       "      <td>NaN</td>\n",
       "      <td>NaN</td>\n",
       "      <td>NaN</td>\n",
       "      <td>NaN</td>\n",
       "    </tr>\n",
       "    <tr>\n",
       "      <th>1</th>\n",
       "      <td>s59983953</td>\n",
       "      <td>Atelectasis</td>\n",
       "      <td>1</td>\n",
       "      <td>1.  Bibasilar and right upper lobe atelectasis...</td>\n",
       "      <td>An endotracheal tube approximately 7 cm from t...</td>\n",
       "      <td>Positive</td>\n",
       "      <td>NaN</td>\n",
       "      <td>NaN</td>\n",
       "      <td>NaN</td>\n",
       "      <td>NaN</td>\n",
       "      <td>NaN</td>\n",
       "      <td>NaN</td>\n",
       "      <td>NaN</td>\n",
       "      <td>NaN</td>\n",
       "      <td>NaN</td>\n",
       "      <td>NaN</td>\n",
       "      <td>NaN</td>\n",
       "      <td>NaN</td>\n",
       "    </tr>\n",
       "    <tr>\n",
       "      <th>2</th>\n",
       "      <td>s55481818</td>\n",
       "      <td>Atelectasis</td>\n",
       "      <td>1</td>\n",
       "      <td>Emphysema and bibasilar atelectasis.  No evide...</td>\n",
       "      <td>Linear opacities of the lung bases bilaterally...</td>\n",
       "      <td>Positive</td>\n",
       "      <td>NaN</td>\n",
       "      <td>NaN</td>\n",
       "      <td>NaN</td>\n",
       "      <td>NaN</td>\n",
       "      <td>NaN</td>\n",
       "      <td>NaN</td>\n",
       "      <td>NaN</td>\n",
       "      <td>NaN</td>\n",
       "      <td>NaN</td>\n",
       "      <td>NaN</td>\n",
       "      <td>Negative</td>\n",
       "      <td>NaN</td>\n",
       "    </tr>\n",
       "    <tr>\n",
       "      <th>3</th>\n",
       "      <td>s51499550</td>\n",
       "      <td>Atelectasis</td>\n",
       "      <td>1</td>\n",
       "      <td>Limited exam with given low lung volumes with ...</td>\n",
       "      <td>AP portable upright view of the chest.   Midli...</td>\n",
       "      <td>Positive</td>\n",
       "      <td>NaN</td>\n",
       "      <td>NaN</td>\n",
       "      <td>NaN</td>\n",
       "      <td>NaN</td>\n",
       "      <td>NaN</td>\n",
       "      <td>NaN</td>\n",
       "      <td>NaN</td>\n",
       "      <td>NaN</td>\n",
       "      <td>NaN</td>\n",
       "      <td>NaN</td>\n",
       "      <td>Negative</td>\n",
       "      <td>NaN</td>\n",
       "    </tr>\n",
       "    <tr>\n",
       "      <th>4</th>\n",
       "      <td>s51644170</td>\n",
       "      <td>Atelectasis</td>\n",
       "      <td>1</td>\n",
       "      <td>Persistently low lung volumes with streaky rig...</td>\n",
       "      <td>Patient is status post median sternotomy.  Rig...</td>\n",
       "      <td>Positive</td>\n",
       "      <td>NaN</td>\n",
       "      <td>NaN</td>\n",
       "      <td>NaN</td>\n",
       "      <td>NaN</td>\n",
       "      <td>NaN</td>\n",
       "      <td>NaN</td>\n",
       "      <td>NaN</td>\n",
       "      <td>NaN</td>\n",
       "      <td>NaN</td>\n",
       "      <td>NaN</td>\n",
       "      <td>NaN</td>\n",
       "      <td>NaN</td>\n",
       "    </tr>\n",
       "  </tbody>\n",
       "</table>\n",
       "</div>"
      ],
      "text/plain": [
       "    study_id    diagnosis  diagnosis_id  \\\n",
       "0  s58402174  Atelectasis             1   \n",
       "1  s59983953  Atelectasis             1   \n",
       "2  s55481818  Atelectasis             1   \n",
       "3  s51499550  Atelectasis             1   \n",
       "4  s51644170  Atelectasis             1   \n",
       "\n",
       "                                          impression  \\\n",
       "0  Increasing bibasilar atelectasis.  Possible mi...   \n",
       "1  1.  Bibasilar and right upper lobe atelectasis...   \n",
       "2  Emphysema and bibasilar atelectasis.  No evide...   \n",
       "3  Limited exam with given low lung volumes with ...   \n",
       "4  Persistently low lung volumes with streaky rig...   \n",
       "\n",
       "                                            findings Atelectasis Cardiomegaly  \\\n",
       "0  AP portable semi upright view of the chest.\\n ...    Positive          NaN   \n",
       "1  An endotracheal tube approximately 7 cm from t...    Positive          NaN   \n",
       "2  Linear opacities of the lung bases bilaterally...    Positive          NaN   \n",
       "3  AP portable upright view of the chest.   Midli...    Positive          NaN   \n",
       "4  Patient is status post median sternotomy.  Rig...    Positive          NaN   \n",
       "\n",
       "  Consolidation      Edema Enlarged Cardiomediastinum Fracture Lung Lesion  \\\n",
       "0           NaN  Uncertain                        NaN      NaN         NaN   \n",
       "1           NaN        NaN                        NaN      NaN         NaN   \n",
       "2           NaN        NaN                        NaN      NaN         NaN   \n",
       "3           NaN        NaN                        NaN      NaN         NaN   \n",
       "4           NaN        NaN                        NaN      NaN         NaN   \n",
       "\n",
       "  Lung Opacity No Finding Pleural Effusion Pleural Other Pneumonia  \\\n",
       "0          NaN        NaN              NaN           NaN       NaN   \n",
       "1          NaN        NaN              NaN           NaN       NaN   \n",
       "2          NaN        NaN              NaN           NaN  Negative   \n",
       "3          NaN        NaN              NaN           NaN  Negative   \n",
       "4          NaN        NaN              NaN           NaN       NaN   \n",
       "\n",
       "  Pneumothorax  \n",
       "0          NaN  \n",
       "1          NaN  \n",
       "2          NaN  \n",
       "3          NaN  \n",
       "4          NaN  "
      ]
     },
     "metadata": {},
     "output_type": "display_data"
    }
   ],
   "source": [
    "report_df = pd.read_csv('final_samples.csv')\n",
    "report_df = report_df.drop('Unnamed: 0', 1)\n",
    "print(len(report_df[\"study_id\"].tolist()))\n",
    "display(report_df.head(n=5))"
   ]
  },
  {
   "cell_type": "code",
   "execution_count": 3,
   "id": "7055cb0c",
   "metadata": {},
   "outputs": [],
   "source": [
    "sample_dataset = dict.fromkeys([\"study_id\", \"diagnosis\", \"diagnosis_id\", \"impression\", \"findings\"])\n",
    "sample_dataset[\"study_id\"] = report_df[\"study_id\"].tolist()\n",
    "sample_dataset[\"diagnosis\"] = report_df[\"diagnosis\"].tolist()\n",
    "sample_dataset[\"diagnosis_id\"] = report_df[\"diagnosis_id\"].tolist()\n",
    "sample_dataset[\"impression\"] = report_df[\"impression\"].tolist()\n",
    "sample_dataset[\"findings\"] = report_df[\"findings\"].tolist()\n"
   ]
  },
  {
   "cell_type": "markdown",
   "id": "f81d06f3",
   "metadata": {},
   "source": [
    "### Only change here! choose the targeted report and section to compare"
   ]
  },
  {
   "cell_type": "code",
   "execution_count": 4,
   "id": "1b1c2d48",
   "metadata": {},
   "outputs": [],
   "source": [
    "# Only change this - the index of the report you want to compare against all the others\n",
    "targeted_index = 120   # from 0 to 164\n",
    "section = \"findings\" # impression or findings"
   ]
  },
  {
   "cell_type": "markdown",
   "id": "7e958598",
   "metadata": {},
   "source": [
    "### Moving the targeted report"
   ]
  },
  {
   "cell_type": "code",
   "execution_count": 5,
   "id": "6622f774",
   "metadata": {},
   "outputs": [
    {
     "name": "stdout",
     "output_type": "stream",
     "text": [
      "Sample report:  s58866273\n",
      "\n",
      "Diagnosis:  Pneumothorax\n",
      "\n",
      "Imperssion: \n",
      " 1.  Dobbhoff tube in the stomach.\n",
      " 2.  Unchanged right basilar loculated hydropneumothorax.\n",
      "\n",
      "Findings: \n",
      " A single portable AP chest radiograph was obtained.  The tip of a\n",
      " Dobbhoff catheter projects over the stomach.  The tip of a right PICC line\n",
      " ends in the low SVC.  There is interval improved aeration of lungs with\n",
      " persistence of a right basilar loculated hydropneumothorax.  A pigtail\n",
      " catheter remains in unchanged position.  There is a small left pleural\n",
      " effusion.\n"
     ]
    }
   ],
   "source": [
    "# move the targeted report to the start of the list\n",
    "sample_dataset[\"study_id\"].insert(0, sample_dataset[\"study_id\"].pop(targeted_index))\n",
    "sample_dataset[\"diagnosis\"].insert(0, sample_dataset[\"diagnosis\"].pop(targeted_index))\n",
    "sample_dataset[\"diagnosis_id\"].insert(0, sample_dataset[\"diagnosis_id\"].pop(targeted_index))\n",
    "sample_dataset[\"impression\"].insert(0, sample_dataset[\"impression\"].pop(targeted_index))\n",
    "sample_dataset[\"findings\"].insert(0, sample_dataset[\"findings\"].pop(targeted_index))\n",
    "\n",
    "print(\"Sample report: \", sample_dataset[\"study_id\"][0])\n",
    "print()\n",
    "print(\"Diagnosis: \", sample_dataset[\"diagnosis\"][0])\n",
    "print()\n",
    "print(\"Imperssion: \\n\" , sample_dataset[\"impression\"][0])\n",
    "print()\n",
    "print(\"Findings: \\n\", sample_dataset[\"findings\"][0])"
   ]
  },
  {
   "cell_type": "markdown",
   "id": "e941a50f",
   "metadata": {},
   "source": [
    "### Report embeddings - Mean pooling operation"
   ]
  },
  {
   "cell_type": "code",
   "execution_count": 6,
   "id": "173dccfd",
   "metadata": {},
   "outputs": [],
   "source": [
    "# initialize dictionary that will contain tokenized sentences\n",
    "tokens = {'input_ids': [], 'attention_mask': []}\n",
    "sample_size = len(sample_dataset[\"study_id\"])\n",
    "\n",
    "for i in range(sample_size):\n",
    "    report = sample_dataset[section][i]\n",
    "    \n",
    "    # tokenize sentence and append to dictionary lists\n",
    "    new_tokens = tokenizer.encode_plus(report, max_length=150, truncation=True,\n",
    "                                       padding='max_length', return_tensors='pt')\n",
    "    tokens['input_ids'].append(new_tokens['input_ids'][0])\n",
    "    tokens['attention_mask'].append(new_tokens['attention_mask'][0])"
   ]
  },
  {
   "cell_type": "code",
   "execution_count": 7,
   "id": "23e0a8db",
   "metadata": {},
   "outputs": [
    {
     "name": "stdout",
     "output_type": "stream",
     "text": [
      "tensor([[  101,   170,  1423,  ...,     0,     0,     0],\n",
      "        [  101,   170,  1643,  ...,     0,     0,     0],\n",
      "        [  101,  1126,  1322,  ..., 12602,   174,   102],\n",
      "        ...,\n",
      "        [  101,  1175,  1110,  ...,     0,     0,     0],\n",
      "        [  101,  1103,  5351,  ...,     0,     0,     0],\n",
      "        [  101,   185,  1161,  ...,     0,     0,     0]])\n",
      "tensor([[1, 1, 1,  ..., 0, 0, 0],\n",
      "        [1, 1, 1,  ..., 0, 0, 0],\n",
      "        [1, 1, 1,  ..., 1, 1, 1],\n",
      "        ...,\n",
      "        [1, 1, 1,  ..., 0, 0, 0],\n",
      "        [1, 1, 1,  ..., 0, 0, 0],\n",
      "        [1, 1, 1,  ..., 0, 0, 0]])\n"
     ]
    }
   ],
   "source": [
    "# reformat list of tensors into single tensor\n",
    "tokens['input_ids'] = torch.stack(tokens['input_ids'])\n",
    "tokens['attention_mask'] = torch.stack(tokens['attention_mask'])\n",
    "print(tokens['input_ids'])\n",
    "print(tokens['attention_mask'])"
   ]
  },
  {
   "cell_type": "code",
   "execution_count": 8,
   "id": "7b04b25d",
   "metadata": {},
   "outputs": [
    {
     "data": {
      "text/plain": [
       "torch.Size([164, 150])"
      ]
     },
     "execution_count": 8,
     "metadata": {},
     "output_type": "execute_result"
    }
   ],
   "source": [
    "tokens['input_ids'].shape"
   ]
  },
  {
   "cell_type": "code",
   "execution_count": 9,
   "id": "b07fa4ef",
   "metadata": {},
   "outputs": [
    {
     "data": {
      "text/plain": [
       "odict_keys(['last_hidden_state', 'pooler_output'])"
      ]
     },
     "execution_count": 9,
     "metadata": {},
     "output_type": "execute_result"
    }
   ],
   "source": [
    "outputs = model(**tokens)\n",
    "outputs.keys()"
   ]
  },
  {
   "cell_type": "code",
   "execution_count": 10,
   "id": "c0d8584e",
   "metadata": {},
   "outputs": [
    {
     "data": {
      "text/plain": [
       "torch.Size([164, 150, 768])"
      ]
     },
     "execution_count": 10,
     "metadata": {},
     "output_type": "execute_result"
    }
   ],
   "source": [
    "embeddings = outputs.last_hidden_state\n",
    "embeddings.shape"
   ]
  },
  {
   "cell_type": "markdown",
   "id": "8d1391e0",
   "metadata": {},
   "source": [
    "The outputs 'last_hidden_state' tensor contains the dense vector representations of our text:"
   ]
  },
  {
   "cell_type": "code",
   "execution_count": 11,
   "id": "f67cbe3f",
   "metadata": {},
   "outputs": [],
   "source": [
    "def mean_pooling(model_output, attention_mask):\n",
    "    # Access the last_hidden_state\n",
    "    token_embeddings = model_output.last_hidden_state\n",
    "    \n",
    "    # multiply each value in the embedding tensor by its respective attention_mask value so to ignore [PAD] tokens\n",
    "    input_mask_expanded = attention_mask.unsqueeze(-1).expand(token_embeddings.size()).float()\n",
    "    sum_embeddings = torch.sum(token_embeddings * input_mask_expanded, 1)\n",
    "    sum_mask = torch.clamp(input_mask_expanded.sum(1), min=1e-9)\n",
    "    return sum_embeddings / sum_mask"
   ]
  },
  {
   "cell_type": "code",
   "execution_count": 12,
   "id": "273be6bd",
   "metadata": {},
   "outputs": [
    {
     "data": {
      "text/plain": [
       "torch.Size([164, 768])"
      ]
     },
     "execution_count": 12,
     "metadata": {},
     "output_type": "execute_result"
    }
   ],
   "source": [
    "mean_pooled_embeddings = mean_pooling(outputs, tokens['attention_mask'])\n",
    "mean_pooled_embeddings\n",
    "mean_pooled_embeddings.shape"
   ]
  },
  {
   "cell_type": "markdown",
   "id": "1b15b66b",
   "metadata": {},
   "source": [
    "### Calculating dense similarity vector - cosine similarity"
   ]
  },
  {
   "cell_type": "code",
   "execution_count": 13,
   "id": "fcdc1bb2",
   "metadata": {},
   "outputs": [
    {
     "name": "stdout",
     "output_type": "stream",
     "text": [
      "[[0.93787754 0.9551142  0.92547214 0.942333   0.9462352  0.9519487\n",
      "  0.94086635 0.93424726 0.9432101  0.94874936 0.92735004 0.9465703\n",
      "  0.9391953  0.95078176 0.91532195 0.90332973 0.93629956 0.93811226\n",
      "  0.93015325 0.9425262  0.9395634  0.93104047 0.94988406 0.9321181\n",
      "  0.93793094 0.9605327  0.93583643 0.91326207 0.94519097 0.9494306\n",
      "  0.9279354  0.93748343 0.9364872  0.90917003 0.9536949  0.9630689\n",
      "  0.9420947  0.94015366 0.9554666  0.9430383  0.9479212  0.9244891\n",
      "  0.91958034 0.9425365  0.9465373  0.9632773  0.9386427  0.9577706\n",
      "  0.9488589  0.95145726 0.9351248  0.9531458  0.94290817 0.93517756\n",
      "  0.94221145 0.95178246 0.93308437 0.93285084 0.95443314 0.9139195\n",
      "  0.90209246 0.9479429  0.95308316 0.9507174  0.9112017  0.9404598\n",
      "  0.9239759  0.9550652  0.93906134 0.92977    0.9296198  0.9144655\n",
      "  0.9348012  0.93759096 0.9422262  0.93825454 0.9314673  0.94310576\n",
      "  0.9347931  0.9369739  0.9366757  0.9274663  0.95045733 0.9304414\n",
      "  0.9349586  0.9443276  0.94693446 0.9422597  0.9490072  0.9507097\n",
      "  0.9517565  0.94506866 0.93803173 0.93442535 0.93407774 0.93756914\n",
      "  0.9173509  0.94315153 0.9425333  0.92668444 0.935463   0.9524032\n",
      "  0.9237717  0.94424033 0.9648702  0.9486042  0.92095315 0.92390877\n",
      "  0.96446913 0.93306583 0.93816894 0.948512   0.96063644 0.9580196\n",
      "  0.9506245  0.89297247 0.9415515  0.95066714 0.95818156 0.91191936\n",
      "  0.9493253  0.9498924  0.9494734  0.95401454 0.95606685 0.93573165\n",
      "  0.96160984 0.94634545 0.93333673 0.94693905 0.93560255 0.9399506\n",
      "  0.90927124 0.9225823  0.9576896  0.9359236  0.94642437 0.9162174\n",
      "  0.9459661  0.94632506 0.9155613  0.93825483 0.95431066 0.94521785\n",
      "  0.8964257  0.9302943  0.9174124  0.9464591  0.94378614 0.9399946\n",
      "  0.89312524 0.9297349  0.9088851  0.95845294 0.9292526  0.95058346\n",
      "  0.9317543  0.91142946 0.94429135 0.94662833 0.959271   0.9352589\n",
      "  0.92001736]]\n",
      "163\n"
     ]
    }
   ],
   "source": [
    "# convert from PyTorch tensor to numpy array\n",
    "mean_pooled_NPembeddings = mean_pooled_embeddings.detach().numpy()\n",
    "\n",
    "# calculate\n",
    "cos_similarities = cosine_similarity(\n",
    "    [mean_pooled_NPembeddings[0]],\n",
    "    mean_pooled_NPembeddings[1:]\n",
    ")\n",
    "\n",
    "print(cos_similarities)\n",
    "print(len(cos_similarities[0]))"
   ]
  },
  {
   "cell_type": "code",
   "execution_count": 14,
   "id": "7065765c",
   "metadata": {},
   "outputs": [],
   "source": [
    "# Put all of them into a table:\n",
    "# remove the targeted report from sample_dataset first\n",
    "removed_id = sample_dataset[\"study_id\"].pop(0)\n",
    "removed_diag = sample_dataset[\"diagnosis\"].pop(0)\n",
    "removed_diag_id = sample_dataset[\"diagnosis_id\"].pop(0)\n",
    "removed_imp = sample_dataset[\"impression\"].pop(0)\n",
    "removed_find = sample_dataset[\"findings\"].pop(0)"
   ]
  },
  {
   "cell_type": "code",
   "execution_count": 15,
   "id": "6264491e",
   "metadata": {},
   "outputs": [
    {
     "name": "stdout",
     "output_type": "stream",
     "text": [
      "163\n",
      "163\n",
      "163\n"
     ]
    }
   ],
   "source": [
    "# Add cosine_similarity to the dictionary \n",
    "sample_dataset['cosine_similarity'] = cos_similarities[0].tolist()\n",
    "\n",
    "print(len(sample_dataset[\"study_id\"]))\n",
    "print(len(sample_dataset[\"diagnosis\"]))\n",
    "print(len(sample_dataset[\"cosine_similarity\"]))"
   ]
  },
  {
   "cell_type": "code",
   "execution_count": 16,
   "id": "6b0886ab",
   "metadata": {},
   "outputs": [],
   "source": [
    "if section == \"impression\":\n",
    "    sample_dataset.pop(\"findings\")\n",
    "\n",
    "if section == \"findings\":\n",
    "    sample_dataset.pop(\"impression\")"
   ]
  },
  {
   "cell_type": "code",
   "execution_count": 17,
   "id": "2d9635bc",
   "metadata": {},
   "outputs": [
    {
     "name": "stdout",
     "output_type": "stream",
     "text": [
      "Targeted report of a diagnosis >>>  Pneumothorax\n",
      "Findings: \n",
      " A single portable AP chest radiograph was obtained.  The tip of a\n",
      " Dobbhoff catheter projects over the stomach.  The tip of a right PICC line\n",
      " ends in the low SVC.  There is interval improved aeration of lungs with\n",
      " persistence of a right basilar loculated hydropneumothorax.  A pigtail\n",
      " catheter remains in unchanged position.  There is a small left pleural\n",
      " effusion.\n",
      "\n",
      "The 10 most similar reports to >>>  Pneumothorax  :\n"
     ]
    },
    {
     "data": {
      "text/html": [
       "<div>\n",
       "<style scoped>\n",
       "    .dataframe tbody tr th:only-of-type {\n",
       "        vertical-align: middle;\n",
       "    }\n",
       "\n",
       "    .dataframe tbody tr th {\n",
       "        vertical-align: top;\n",
       "    }\n",
       "\n",
       "    .dataframe thead th {\n",
       "        text-align: right;\n",
       "    }\n",
       "</style>\n",
       "<table border=\"1\" class=\"dataframe\">\n",
       "  <thead>\n",
       "    <tr style=\"text-align: right;\">\n",
       "      <th></th>\n",
       "      <th>study_id</th>\n",
       "      <th>diagnosis</th>\n",
       "      <th>diagnosis_id</th>\n",
       "      <th>findings</th>\n",
       "      <th>cosine_similarity</th>\n",
       "    </tr>\n",
       "  </thead>\n",
       "  <tbody>\n",
       "    <tr>\n",
       "      <th>104</th>\n",
       "      <td>s50128467</td>\n",
       "      <td>Pleural Effusion</td>\n",
       "      <td>9</td>\n",
       "      <td>Since the prior examination there is little ch...</td>\n",
       "      <td>0.964870</td>\n",
       "    </tr>\n",
       "    <tr>\n",
       "      <th>108</th>\n",
       "      <td>s53367019</td>\n",
       "      <td>Pleural Effusion</td>\n",
       "      <td>9</td>\n",
       "      <td>There has been interval placement of a right I...</td>\n",
       "      <td>0.964469</td>\n",
       "    </tr>\n",
       "    <tr>\n",
       "      <th>45</th>\n",
       "      <td>s56140154</td>\n",
       "      <td>Edema</td>\n",
       "      <td>4</td>\n",
       "      <td>There has been improvement in mild-to-moderate...</td>\n",
       "      <td>0.963277</td>\n",
       "    </tr>\n",
       "    <tr>\n",
       "      <th>35</th>\n",
       "      <td>s58585557</td>\n",
       "      <td>Consolidatio</td>\n",
       "      <td>3</td>\n",
       "      <td>Portable semi-upright radiograph of the chest ...</td>\n",
       "      <td>0.963069</td>\n",
       "    </tr>\n",
       "    <tr>\n",
       "      <th>126</th>\n",
       "      <td>s55902256</td>\n",
       "      <td>Pneumothorax</td>\n",
       "      <td>10</td>\n",
       "      <td>Comparison is made to prior study from ___.\\n ...</td>\n",
       "      <td>0.961610</td>\n",
       "    </tr>\n",
       "    <tr>\n",
       "      <th>112</th>\n",
       "      <td>s53795595</td>\n",
       "      <td>Pleural Effusion</td>\n",
       "      <td>9</td>\n",
       "      <td>There has been interval decrease in size of th...</td>\n",
       "      <td>0.960636</td>\n",
       "    </tr>\n",
       "    <tr>\n",
       "      <th>25</th>\n",
       "      <td>s53462705</td>\n",
       "      <td>Cardiomegaly</td>\n",
       "      <td>2</td>\n",
       "      <td>There has been interval removal of a right-sid...</td>\n",
       "      <td>0.960533</td>\n",
       "    </tr>\n",
       "    <tr>\n",
       "      <th>160</th>\n",
       "      <td>s56443683</td>\n",
       "      <td>No findings</td>\n",
       "      <td>13</td>\n",
       "      <td>There is persistent opacification of the media...</td>\n",
       "      <td>0.959271</td>\n",
       "    </tr>\n",
       "    <tr>\n",
       "      <th>153</th>\n",
       "      <td>s52538997</td>\n",
       "      <td>No findings</td>\n",
       "      <td>13</td>\n",
       "      <td>New left-sided Port-A-Cath is seen entering th...</td>\n",
       "      <td>0.958453</td>\n",
       "    </tr>\n",
       "    <tr>\n",
       "      <th>118</th>\n",
       "      <td>s51435896</td>\n",
       "      <td>Pneumothorax</td>\n",
       "      <td>10</td>\n",
       "      <td>In the interim since the most recent prior\\n c...</td>\n",
       "      <td>0.958182</td>\n",
       "    </tr>\n",
       "  </tbody>\n",
       "</table>\n",
       "</div>"
      ],
      "text/plain": [
       "      study_id         diagnosis  diagnosis_id  \\\n",
       "104  s50128467  Pleural Effusion             9   \n",
       "108  s53367019  Pleural Effusion             9   \n",
       "45   s56140154             Edema             4   \n",
       "35   s58585557      Consolidatio             3   \n",
       "126  s55902256      Pneumothorax            10   \n",
       "112  s53795595  Pleural Effusion             9   \n",
       "25   s53462705      Cardiomegaly             2   \n",
       "160  s56443683       No findings            13   \n",
       "153  s52538997       No findings            13   \n",
       "118  s51435896      Pneumothorax            10   \n",
       "\n",
       "                                              findings  cosine_similarity  \n",
       "104  Since the prior examination there is little ch...           0.964870  \n",
       "108  There has been interval placement of a right I...           0.964469  \n",
       "45   There has been improvement in mild-to-moderate...           0.963277  \n",
       "35   Portable semi-upright radiograph of the chest ...           0.963069  \n",
       "126  Comparison is made to prior study from ___.\\n ...           0.961610  \n",
       "112  There has been interval decrease in size of th...           0.960636  \n",
       "25   There has been interval removal of a right-sid...           0.960533  \n",
       "160  There is persistent opacification of the media...           0.959271  \n",
       "153  New left-sided Port-A-Cath is seen entering th...           0.958453  \n",
       "118  In the interim since the most recent prior\\n c...           0.958182  "
      ]
     },
     "metadata": {},
     "output_type": "display_data"
    }
   ],
   "source": [
    "cos_sim_df = pd.DataFrame.from_dict(sample_dataset)\n",
    "sort_cos_sim_df = cos_sim_df.sort_values(by=['cosine_similarity'], ascending=False)\n",
    "print(\"Targeted report of a diagnosis >>> \", removed_diag)\n",
    "\n",
    "if section == \"impression\":\n",
    "    print(\"Impression: \\n\", removed_imp)\n",
    "\n",
    "if section == \"findings\":\n",
    "    print(\"Findings: \\n\", removed_find)\n",
    "\n",
    "print()\n",
    "print(\"The 10 most similar reports to >>> \", removed_diag, \" :\")\n",
    "display(sort_cos_sim_df.head(n=10))"
   ]
  },
  {
   "cell_type": "code",
   "execution_count": 18,
   "id": "f34975ba",
   "metadata": {},
   "outputs": [
    {
     "name": "stdout",
     "output_type": "stream",
     "text": [
      "The 10 furthest reports to >>>  Pneumothorax  :\n"
     ]
    },
    {
     "data": {
      "text/html": [
       "<div>\n",
       "<style scoped>\n",
       "    .dataframe tbody tr th:only-of-type {\n",
       "        vertical-align: middle;\n",
       "    }\n",
       "\n",
       "    .dataframe tbody tr th {\n",
       "        vertical-align: top;\n",
       "    }\n",
       "\n",
       "    .dataframe thead th {\n",
       "        text-align: right;\n",
       "    }\n",
       "</style>\n",
       "<table border=\"1\" class=\"dataframe\">\n",
       "  <thead>\n",
       "    <tr style=\"text-align: right;\">\n",
       "      <th></th>\n",
       "      <th>study_id</th>\n",
       "      <th>diagnosis</th>\n",
       "      <th>diagnosis_id</th>\n",
       "      <th>findings</th>\n",
       "      <th>cosine_similarity</th>\n",
       "    </tr>\n",
       "  </thead>\n",
       "  <tbody>\n",
       "    <tr>\n",
       "      <th>157</th>\n",
       "      <td>s56078456</td>\n",
       "      <td>No findings</td>\n",
       "      <td>13</td>\n",
       "      <td>Frontal and lateral views of the chest.  The l...</td>\n",
       "      <td>0.911429</td>\n",
       "    </tr>\n",
       "    <tr>\n",
       "      <th>64</th>\n",
       "      <td>s52775752</td>\n",
       "      <td>Fracture</td>\n",
       "      <td>6</td>\n",
       "      <td>No focal consolidation, pleural effusion, pneu...</td>\n",
       "      <td>0.911202</td>\n",
       "    </tr>\n",
       "    <tr>\n",
       "      <th>132</th>\n",
       "      <td>s56129930</td>\n",
       "      <td>Pneumonia</td>\n",
       "      <td>11</td>\n",
       "      <td>There is increased opacification in the left l...</td>\n",
       "      <td>0.909271</td>\n",
       "    </tr>\n",
       "    <tr>\n",
       "      <th>33</th>\n",
       "      <td>s58831403</td>\n",
       "      <td>Consolidatio</td>\n",
       "      <td>3</td>\n",
       "      <td>AP portable upright chest radiograph was provi...</td>\n",
       "      <td>0.909170</td>\n",
       "    </tr>\n",
       "    <tr>\n",
       "      <th>152</th>\n",
       "      <td>s58736291</td>\n",
       "      <td>No findings</td>\n",
       "      <td>13</td>\n",
       "      <td>No focal consolidation, pleural effusion, or p...</td>\n",
       "      <td>0.908885</td>\n",
       "    </tr>\n",
       "    <tr>\n",
       "      <th>15</th>\n",
       "      <td>s51513702</td>\n",
       "      <td>Cardiomegaly</td>\n",
       "      <td>2</td>\n",
       "      <td>Single AP portable view of the chest.  No prio...</td>\n",
       "      <td>0.903330</td>\n",
       "    </tr>\n",
       "    <tr>\n",
       "      <th>60</th>\n",
       "      <td>s58521372</td>\n",
       "      <td>Enlarged Cardiomediastinum</td>\n",
       "      <td>5</td>\n",
       "      <td>Frontal and lateral views of the chest were ob...</td>\n",
       "      <td>0.902092</td>\n",
       "    </tr>\n",
       "    <tr>\n",
       "      <th>144</th>\n",
       "      <td>s59535316</td>\n",
       "      <td>Pleural Other</td>\n",
       "      <td>12</td>\n",
       "      <td>Single portable view of the chest.  Low lung v...</td>\n",
       "      <td>0.896426</td>\n",
       "    </tr>\n",
       "    <tr>\n",
       "      <th>150</th>\n",
       "      <td>s58307391</td>\n",
       "      <td>No findings</td>\n",
       "      <td>13</td>\n",
       "      <td>The lungs are well expanded and clear.  The\\n ...</td>\n",
       "      <td>0.893125</td>\n",
       "    </tr>\n",
       "    <tr>\n",
       "      <th>115</th>\n",
       "      <td>s52971492</td>\n",
       "      <td>Pleural Effusion</td>\n",
       "      <td>9</td>\n",
       "      <td>PA and lateral chest views were obtained with ...</td>\n",
       "      <td>0.892972</td>\n",
       "    </tr>\n",
       "  </tbody>\n",
       "</table>\n",
       "</div>"
      ],
      "text/plain": [
       "      study_id                   diagnosis  diagnosis_id  \\\n",
       "157  s56078456                 No findings            13   \n",
       "64   s52775752                    Fracture             6   \n",
       "132  s56129930                   Pneumonia            11   \n",
       "33   s58831403                Consolidatio             3   \n",
       "152  s58736291                 No findings            13   \n",
       "15   s51513702                Cardiomegaly             2   \n",
       "60   s58521372  Enlarged Cardiomediastinum             5   \n",
       "144  s59535316               Pleural Other            12   \n",
       "150  s58307391                 No findings            13   \n",
       "115  s52971492            Pleural Effusion             9   \n",
       "\n",
       "                                              findings  cosine_similarity  \n",
       "157  Frontal and lateral views of the chest.  The l...           0.911429  \n",
       "64   No focal consolidation, pleural effusion, pneu...           0.911202  \n",
       "132  There is increased opacification in the left l...           0.909271  \n",
       "33   AP portable upright chest radiograph was provi...           0.909170  \n",
       "152  No focal consolidation, pleural effusion, or p...           0.908885  \n",
       "15   Single AP portable view of the chest.  No prio...           0.903330  \n",
       "60   Frontal and lateral views of the chest were ob...           0.902092  \n",
       "144  Single portable view of the chest.  Low lung v...           0.896426  \n",
       "150  The lungs are well expanded and clear.  The\\n ...           0.893125  \n",
       "115  PA and lateral chest views were obtained with ...           0.892972  "
      ]
     },
     "metadata": {},
     "output_type": "display_data"
    }
   ],
   "source": [
    "print(\"The 10 furthest reports to >>> \", removed_diag, \" :\")\n",
    "display(sort_cos_sim_df.tail(n=10))"
   ]
  },
  {
   "cell_type": "code",
   "execution_count": null,
   "id": "d391db69",
   "metadata": {},
   "outputs": [],
   "source": []
  }
 ],
 "metadata": {
  "kernelspec": {
   "display_name": "Python 3",
   "language": "python",
   "name": "python3"
  },
  "language_info": {
   "codemirror_mode": {
    "name": "ipython",
    "version": 3
   },
   "file_extension": ".py",
   "mimetype": "text/x-python",
   "name": "python",
   "nbconvert_exporter": "python",
   "pygments_lexer": "ipython3",
   "version": "3.6.13"
  }
 },
 "nbformat": 4,
 "nbformat_minor": 5
}
